{
  "nbformat": 4,
  "nbformat_minor": 0,
  "metadata": {
    "colab": {
      "provenance": [],
      "authorship_tag": "ABX9TyOAQhXrbQyTdVA5rmzsIwx2",
      "include_colab_link": true
    },
    "kernelspec": {
      "name": "python3",
      "display_name": "Python 3"
    },
    "language_info": {
      "name": "python"
    }
  },
  "cells": [
    {
      "cell_type": "markdown",
      "metadata": {
        "id": "view-in-github",
        "colab_type": "text"
      },
      "source": [
        "<a href=\"https://colab.research.google.com/github/dewifatimahazzahra/Data_Mining_Dewi_0110223142/blob/main/Praktik1.ipynb\" target=\"_parent\"><img src=\"https://colab.research.google.com/assets/colab-badge.svg\" alt=\"Open In Colab\"/></a>"
      ]
    },
    {
      "cell_type": "code",
      "source": [
        "# Import library\n",
        "import pandas as pd\n",
        "import matplotlib.pyplot as plt\n",
        "from google.colab import drive\n",
        "\n",
        "# Fungsi untuk membaca file dan perhitungan statistik\n",
        "def perhitungan_csv(file_path):\n",
        "    # 1. Baca data dari .csv file yang ada di drive\n",
        "    drive.mount('/content/gdrive')  # izin akses file di gdrive\n",
        "    df = pd.read_csv(file_path)  # baca file\n",
        "\n",
        "    # 2. Tampilkan seluruh data\n",
        "    print(\"Seluruh Data:\")\n",
        "    print(df)\n",
        "    print()\n",
        "\n",
        "    # 3. Hitung jumlah data, rata-rata, nilai maksimum, nilai minimum dari berat dan tinggi badan berdasarkan Gender\n",
        "    statistik = df.groupby('Gender')[['Height', 'Weight']].agg(['count', 'mean', 'max', 'min'])\n",
        "    print(\"\\nStatistik Berdasarkan Gender:\")\n",
        "    print(statistik)\n",
        "    print()\n",
        "    print()\n",
        "\n",
        "    # 4. Ubah kolom Gender menjadi data binary: Female - 0, Male - 1\n",
        "    df['Gender'] = df['Gender'].replace({'Female': 0, 'Male': 1})\n",
        "\n",
        "    # 5. Hitung Indeks BMI\n",
        "    df['BMI'] = df['Weight'] / (df['Height'] ** 2)  # Asumsi Height dalam meter\n",
        "\n",
        "    # plot individual BMI values for each gender\n",
        "    plt.bar(df['Gender'], df['BMI'],\n",
        "            color=['skyblue'if g== 'female' else 'salmon'\n",
        "                    for g in df['Gender']])\n",
        "    plt.title('index BMI berdasarkan Gender')\n",
        "    plt.xlabel('Geder')\n",
        "    plt.ylabel('BMI')\n",
        "    plt.ylim(0, df[\"BMI\"].max() + 5)  # atue batas y\n",
        "\n",
        "    # Tampil grafik\n",
        "    plt.show()\n",
        "    print()\n",
        "\n",
        "\n",
        "\n",
        "\n",
        "\n"
      ],
      "metadata": {
        "id": "I1clMfDNrcOn"
      },
      "execution_count": null,
      "outputs": []
    },
    {
      "cell_type": "code",
      "source": [],
      "metadata": {
        "id": "2OGCnQk83rHZ"
      },
      "execution_count": null,
      "outputs": []
    },
    {
      "cell_type": "code",
      "source": [
        "import pandas as pd\n",
        "from google.colab import drive\n",
        "\n",
        "drive.mount('/content/gdrive')  # izin akses file di gdrive\n",
        "file_path = 'gdrive/My Drive/ColabDataMining/BMI_data.csv'\n",
        "df = pd.read_csv(file_path)  # baca file\n",
        "\n",
        "df['Gender'] = df['Gender'].map({'Female': 0, 'Male': 1})\n",
        "\n",
        "stats = df.groupby('Gender').agg({\n",
        "    'Height': ['count', 'mean', 'max', 'min'],\n",
        "    'Weight': ['count', 'mean', 'max', 'min']\n",
        "})\n",
        "\n",
        "print(stats)"
      ],
      "metadata": {
        "colab": {
          "base_uri": "https://localhost:8080/"
        },
        "id": "A9g_iFcEuaiT",
        "outputId": "a2ac4776-0d6e-402c-f7e2-f1fe22e03063"
      },
      "execution_count": null,
      "outputs": [
        {
          "output_type": "stream",
          "name": "stdout",
          "text": [
            "Mounted at /content/gdrive\n",
            "       Height                       Weight                     \n",
            "        count        mean  max  min  count        mean  max min\n",
            "Gender                                                         \n",
            "0         255  170.227451  199  140    255  105.698039  160  50\n",
            "1         245  169.648980  199  140    245  106.314286  160  50\n"
          ]
        }
      ]
    },
    {
      "cell_type": "code",
      "source": [
        "df['Gender'] = df['Gender'].map({'Female': 0, 'Male': 1})\n",
        "\n",
        "stats = df.groupby('Gender').agg({\n",
        "    'Height': ['count', 'mean', 'max', 'min'],\n",
        "    'Weight': ['count', 'mean', 'max', 'min']\n",
        "})\n",
        "\n",
        "print(stats)\n"
      ],
      "metadata": {
        "colab": {
          "base_uri": "https://localhost:8080/",
          "height": 211
        },
        "id": "SB8VnElbvjKh",
        "outputId": "8332da33-97ee-4ea7-dc22-c37b87059296"
      },
      "execution_count": null,
      "outputs": [
        {
          "output_type": "error",
          "ename": "NameError",
          "evalue": "name 'df' is not defined",
          "traceback": [
            "\u001b[0;31m---------------------------------------------------------------------------\u001b[0m",
            "\u001b[0;31mNameError\u001b[0m                                 Traceback (most recent call last)",
            "\u001b[0;32m<ipython-input-1-25fb853c21a7>\u001b[0m in \u001b[0;36m<cell line: 1>\u001b[0;34m()\u001b[0m\n\u001b[0;32m----> 1\u001b[0;31m \u001b[0mdf\u001b[0m\u001b[0;34m[\u001b[0m\u001b[0;34m'Gender'\u001b[0m\u001b[0;34m]\u001b[0m \u001b[0;34m=\u001b[0m \u001b[0mdf\u001b[0m\u001b[0;34m[\u001b[0m\u001b[0;34m'Gender'\u001b[0m\u001b[0;34m]\u001b[0m\u001b[0;34m.\u001b[0m\u001b[0mmap\u001b[0m\u001b[0;34m(\u001b[0m\u001b[0;34m{\u001b[0m\u001b[0;34m'Female'\u001b[0m\u001b[0;34m:\u001b[0m \u001b[0;36m0\u001b[0m\u001b[0;34m,\u001b[0m \u001b[0;34m'Male'\u001b[0m\u001b[0;34m:\u001b[0m \u001b[0;36m1\u001b[0m\u001b[0;34m}\u001b[0m\u001b[0;34m)\u001b[0m\u001b[0;34m\u001b[0m\u001b[0;34m\u001b[0m\u001b[0m\n\u001b[0m\u001b[1;32m      2\u001b[0m \u001b[0;34m\u001b[0m\u001b[0m\n\u001b[1;32m      3\u001b[0m stats = df.groupby('Gender').agg({\n\u001b[1;32m      4\u001b[0m     \u001b[0;34m'Height'\u001b[0m\u001b[0;34m:\u001b[0m \u001b[0;34m[\u001b[0m\u001b[0;34m'count'\u001b[0m\u001b[0;34m,\u001b[0m \u001b[0;34m'mean'\u001b[0m\u001b[0;34m,\u001b[0m \u001b[0;34m'max'\u001b[0m\u001b[0;34m,\u001b[0m \u001b[0;34m'min'\u001b[0m\u001b[0;34m]\u001b[0m\u001b[0;34m,\u001b[0m\u001b[0;34m\u001b[0m\u001b[0;34m\u001b[0m\u001b[0m\n\u001b[1;32m      5\u001b[0m     \u001b[0;34m'Weight'\u001b[0m\u001b[0;34m:\u001b[0m \u001b[0;34m[\u001b[0m\u001b[0;34m'count'\u001b[0m\u001b[0;34m,\u001b[0m \u001b[0;34m'mean'\u001b[0m\u001b[0;34m,\u001b[0m \u001b[0;34m'max'\u001b[0m\u001b[0;34m,\u001b[0m \u001b[0;34m'min'\u001b[0m\u001b[0;34m]\u001b[0m\u001b[0;34m\u001b[0m\u001b[0;34m\u001b[0m\u001b[0m\n",
            "\u001b[0;31mNameError\u001b[0m: name 'df' is not defined"
          ]
        }
      ]
    },
    {
      "cell_type": "code",
      "source": [
        "# konvert value gender\n",
        "df['Gender'] = df['Gender'].map({'Female': 0, 'Male': 1})\n",
        "\n",
        "print(df)\n"
      ],
      "metadata": {
        "colab": {
          "base_uri": "https://localhost:8080/"
        },
        "id": "juH73H6Kvu7m",
        "outputId": "ac2deac4-cd53-4afd-fade-0525e4b52bd0"
      },
      "execution_count": null,
      "outputs": [
        {
          "output_type": "stream",
          "name": "stdout",
          "text": [
            "     Gender  Height  Weight  Index\n",
            "0         1     174      96      4\n",
            "1         1     189      87      2\n",
            "2         0     185     110      4\n",
            "3         0     195     104      3\n",
            "4         1     149      61      3\n",
            "..      ...     ...     ...    ...\n",
            "495       0     150     153      5\n",
            "496       0     184     121      4\n",
            "497       0     141     136      5\n",
            "498       1     150      95      5\n",
            "499       1     173     131      5\n",
            "\n",
            "[500 rows x 4 columns]\n"
          ]
        }
      ]
    },
    {
      "cell_type": "code",
      "source": [
        "import matplotlib.pyplot as plt\n",
        "\n",
        "# Group by gender and calculate average BMI index\n",
        "bmi_by_gender = df.groupby('Gender')['Index'].mean()\n",
        "\n",
        "# Plot the graph\n",
        "plt.figure(figsize=(8,6))\n",
        "bmi_by_gender.plot(kind='bar', color=['blue', 'orange'])\n",
        "plt.title('Grafik Index BMI Berdasarkan Gender')\n",
        "plt.xlabel('Gender (0 = Female, 1 = Male)')\n",
        "plt.ylabel('BMI Index')\n",
        "plt.xticks(rotation=0)\n",
        "plt.show()\n"
      ],
      "metadata": {
        "colab": {
          "base_uri": "https://localhost:8080/",
          "height": 544
        },
        "id": "UYDLPLXxwQxZ",
        "outputId": "28f4c7aa-a65a-4597-ba2a-6d3799fb609d"
      },
      "execution_count": null,
      "outputs": [
        {
          "output_type": "display_data",
          "data": {
            "text/plain": [
              "<Figure size 800x600 with 1 Axes>"
            ],
            "image/png": "[encoded data removed]"
          },
          "metadata": {}
        }
      ]
    },
    {
      "cell_type": "code",
      "source": [
        "#object creation\n",
        "\n",
        "import pandas as pd\n",
        "import numpy as np\n",
        "\n",
        "s = pd.Series([1,3,5, np.nan, 6,8])\n",
        "dates = pd.date_range('2023-10-01', periods=6)\n",
        "df = pd.DataFrame(np.random.randn(6,4), index=dates, column=list('ABC'))\n",
        "\n",
        "print(\"Object Creation: \")\n",
        "print(\"Series\")\n",
        "print(s)\n",
        "print(\"\\nDataFrame\")\n",
        "print(df)\n",
        "print(\"=\"*50)\n",
        "print()\n",
        "\n",
        "\n",
        "#"
      ],
      "metadata": {
        "id": "UOBK-HWV3uxH"
      },
      "execution_count": null,
      "outputs": []
    }
  ]
}